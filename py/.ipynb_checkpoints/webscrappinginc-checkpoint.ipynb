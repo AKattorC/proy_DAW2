{
 "cells": [
  {
   "cell_type": "code",
   "execution_count": 38,
   "id": "7f832e07",
   "metadata": {
    "scrolled": false
   },
   "outputs": [
    {
     "name": "stdout",
     "output_type": "stream",
     "text": [
      "[]\n"
     ]
    }
   ],
   "source": [
    "import sys\n",
    "#from mysql.connector import connect, Error\n",
    "#try:\n",
    " #   with connect (host=\"localhost\",user=input(\"root\"),\n",
    "  #               password=getpass(),\n",
    "   #              )as connection:\n",
    "    #    print(connection)\n",
    "     #   except Error as e:\n",
    "      #      print(e)\n",
    "#!{sys.executable} -m pip install pandas\n",
    "import urllib\n",
    "from bs4 import BeautifulSoup\n",
    "url = 'http://rodalies.gencat.cat/es/alteracions_del_servei/'\n",
    "html = urllib.request.urlopen(url)\n",
    "soup2 = BeautifulSoup(html)\n",
    "tags = [];\n",
    "tagsi = [];\n",
    "\n",
    "tag=soup2.find_all(\"img\",class_=\"destacat_icones list-group-item\")\n",
    "\n",
    "#tag=sop2.fin_all()\n",
    "#tag = tag.replace(',',' ')\n",
    "#lis = tag.split()\n",
    "#tagimg = tag.find_all('img');\n",
    "#print(tagimg);\n",
    "print(tag);\n",
    "for i in tag:\n",
    "    tags.append(i)\n",
    "   # print(tags)\n",
    "    #tagsi=tags.filter(lambda:\"img\")\n",
    "    #print(tagsi[i])\n",
    "    fich1 = open(\"prueba.html\",\"w\")\n",
    "    fich1.write(str(tags))\n",
    "    fich1.write('<head><meta http-equiv=\"Content-Type\" content=\"text/html;charset=UTF-8\"><style>.list-group-item{background-color:none}</style></head>')\n",
    "fich1.close();\n",
    "#print(fich1);"
   ]
  }
 ],
 "metadata": {
  "kernelspec": {
   "display_name": "Python 3",
   "language": "python",
   "name": "python3"
  },
  "language_info": {
   "codemirror_mode": {
    "name": "ipython",
    "version": 3
   },
   "file_extension": ".py",
   "mimetype": "text/x-python",
   "name": "python",
   "nbconvert_exporter": "python",
   "pygments_lexer": "ipython3",
   "version": "3.8.8"
  }
 },
 "nbformat": 4,
 "nbformat_minor": 5
}
