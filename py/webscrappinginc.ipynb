{
 "cells": [
  {
   "cell_type": "code",
   "execution_count": 12,
   "id": "7f832e07",
   "metadata": {
    "scrolled": false
   },
   "outputs": [
    {
     "name": "stdout",
     "output_type": "stream",
     "text": [
      "[<li class=\"destacat_icones list-group-item\">\n",
      "<div class=\"destacat_icones_cont\">\n",
      "<img alt=\"R3\" src=\"/web/resources/fwkResponsive/fpca_horaries/img/ico_r3.png\"/>\n",
      "<span>24/08/2021 08:10h</span>\n",
      "<div>\n",
      "<p>Por obras de la infraestructura que realiza Adif, desde el 30 de agosto los trenes de la línea R3 con origen o destino La Garriga, iniciarán o finalizarán su recorrido en la estación de Les Franqueses del Vallès. Servicio alternativo con autobús. Más información en rodaliesdecatalunya.cat, renfe.com, app's, teléfono 900 41 00 41 o en las estaciones.</p>\n",
      "</div>\n",
      "</div>\n",
      "</li>, <li class=\"destacat_icones list-group-item\">\n",
      "<div class=\"destacat_icones_cont\">\n",
      "<img alt=\"R3\" src=\"/web/resources/fwkResponsive/fpca_horaries/img/ico_r3.png\"/>\n",
      "<span>14/06/2021 17:42h</span>\n",
      "<div>\n",
      "<p>A la llegada a Francia, en los controles previstos gestionados por las autoridades francesas, será obligatorio presentar una prueba PCR, de antígenos o de vacunación.</p>\n",
      "</div>\n",
      "</div>\n",
      "</li>, <li class=\"destacat_icones list-group-item\">\n",
      "<div class=\"destacat_icones_cont\">\n",
      "<img alt=\"R11\" src=\"/web/resources/fwkResponsive/fpca_horaries/img/ico_r11.png\"/>\n",
      "<span>14/06/2021 17:41h</span>\n",
      "<div>\n",
      "<p>A la llegada a Francia, en los controles previstos gestionados por las autoridades francesas, será obligatorio presentar una prueba PCR, de antígenos o de vacunación.</p>\n",
      "</div>\n",
      "</div>\n",
      "</li>, <li class=\"destacat_icones list-group-item\">\n",
      "<div class=\"destacat_icones_cont\">\n",
      "<img alt=\"RT1\" src=\"/web/resources/fwkResponsive/fpca_horaries/img/ico_rt1.png\"/>\n",
      "<span>25/03/2020 20:14h</span>\n",
      "<div>\n",
      "<p>Durante el período de reducción esta linea no prestará servicio. Disponen de los trenes de las líneas R14-R15-R16 para desplazarse entre Tarragona, Vila-seca y Reus.</p>\n",
      "</div>\n",
      "</div>\n",
      "</li>]\n"
     ]
    }
   ],
   "source": [
    "import sys\n",
    "#from mysql.connector import connect, Error\n",
    "#try:\n",
    " #   with connect (host=\"localhost\",user=input(\"root\"),\n",
    "  #               password=getpass(),\n",
    "   #              )as connection:\n",
    "    #    print(connection)\n",
    "     #   except Error as e:\n",
    "      #      print(e)\n",
    "#!{sys.executable} -m pip install pandas\n",
    "import urllib\n",
    "from bs4 import BeautifulSoup\n",
    "url = 'http://rodalies.gencat.cat/es/alteracions_del_servei/'\n",
    "html = urllib.request.urlopen(url)\n",
    "soup2 = BeautifulSoup(html)\n",
    "img=soup2.find_all('img');\n",
    "tags = [];\n",
    "tagsi = [];\n",
    "\n",
    "tag=soup2.find_all(class_=\"destacat_icones list-group-item\")\n",
    "\n",
    "#tag=sop2.fin_all()\n",
    "#tag = tag.replace(',',' ')\n",
    "#lis = tag.split()\n",
    "#tagimg = tag.find_all('img');\n",
    "#print(tagimg);\n",
    "print(tag);\n",
    "fich1 = open(\"prueba.html\",\"w\")\n",
    "for i in tag:\n",
    "    tags.append(i)\n",
    "   # print(tags)\n",
    "    #tagsi=tags.filter(lambda:\"img\")\n",
    "    #print(tagsi[i])\n",
    "    fich1.write('<head><meta http-equiv=\"Content-Type\" content=\"text/html;charset=UTF-8\"><style>.list-group-item{background-color:none}</style></head>')\n",
    "    fich1.write(str(tags))\n",
    "fich1.close();\n",
    "\n",
    "#print(fich1);"
   ]
  },
  {
   "cell_type": "code",
   "execution_count": null,
   "id": "686e411d",
   "metadata": {},
   "outputs": [],
   "source": []
  }
 ],
 "metadata": {
  "kernelspec": {
   "display_name": "Python 3",
   "language": "python",
   "name": "python3"
  },
  "language_info": {
   "codemirror_mode": {
    "name": "ipython",
    "version": 3
   },
   "file_extension": ".py",
   "mimetype": "text/x-python",
   "name": "python",
   "nbconvert_exporter": "python",
   "pygments_lexer": "ipython3",
   "version": "3.8.8"
  }
 },
 "nbformat": 4,
 "nbformat_minor": 5
}
