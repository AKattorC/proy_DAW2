{
 "cells": [
  {
   "cell_type": "code",
   "execution_count": 5,
   "id": "7f832e07",
   "metadata": {
    "scrolled": false
   },
   "outputs": [
    {
     "ename": "SyntaxError",
     "evalue": "invalid syntax (<ipython-input-5-ce0c99048a3b>, line 32)",
     "output_type": "error",
     "traceback": [
      "\u001b[1;36m  File \u001b[1;32m\"<ipython-input-5-ce0c99048a3b>\"\u001b[1;36m, line \u001b[1;32m32\u001b[0m\n\u001b[1;33m    fich1.close();\u001b[0m\n\u001b[1;37m    ^\u001b[0m\n\u001b[1;31mSyntaxError\u001b[0m\u001b[1;31m:\u001b[0m invalid syntax\n"
     ]
    }
   ],
   "source": [
    "import sys\n",
    "#from mysql.connector import connect, Error\n",
    "#try:\n",
    " #   with connect (host=\"localhost\",user=input(\"root\"),\n",
    "  #               password=getpass(),\n",
    "   #              )as connection:\n",
    "    #    print(connection)\n",
    "     #   except Error as e:\n",
    "      #      print(e)\n",
    "#!{sys.executable} -m pip install pandas\n",
    "import urllib\n",
    "from bs4 import BeautifulSoup\n",
    "url = 'http://rodalies.gencat.cat/es/alteracions_del_servei/'\n",
    "html = urllib.request.urlopen(url)\n",
    "soup2 = BeautifulSoup (html)\n",
    "tags = [];\n",
    "tagsi = [];\n",
    "\n",
    "tag=soup2.find_all(class_=\"destacat_icones list-group-item\")\n",
    "\n",
    "\n",
    "#tag = tag.replace(',',' ').replace\n",
    "#lis = tag.split()\n",
    "\n",
    "for i in tag:\n",
    "    tags.append(i)\n",
    "    print(tags)\n",
    "    #tagsi=tags.filter(lambda:\"img\")\n",
    "    #print(tagsi[i])\n",
    "    fich1 = open(\"pruba.html\",\"w\")\n",
    "    fich1.write(str(tags))\n",
    "fich1.close();"
   ]
  }
 ],
 "metadata": {
  "kernelspec": {
   "display_name": "Python 3",
   "language": "python",
   "name": "python3"
  },
  "language_info": {
   "codemirror_mode": {
    "name": "ipython",
    "version": 3
   },
   "file_extension": ".py",
   "mimetype": "text/x-python",
   "name": "python",
   "nbconvert_exporter": "python",
   "pygments_lexer": "ipython3",
   "version": "3.8.8"
  }
 },
 "nbformat": 4,
 "nbformat_minor": 5
}
