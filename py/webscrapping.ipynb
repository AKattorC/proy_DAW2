{
 "cells": [
  {
   "cell_type": "code",
   "execution_count": 1,
   "id": "7f832e07",
   "metadata": {},
   "outputs": [
    {
     "name": "stdout",
     "output_type": "stream",
     "text": [
      "[<div class=\"destacat_icones_cont\">\n",
      "<img alt=\"R3\" src=\"/web/resources/fwkResponsive/fpca_horaries/img/ico_r3.png\"/>\n",
      "<span>17/11/2021 08:23h</span>\n",
      "<div>\n",
      "<p>Por huelga SNCF los trenes finalizan de Puigcerdá</p>\n",
      "</div>\n",
      "</div>, <div class=\"destacat_icones_cont\">\n",
      "<img alt=\"R11\" src=\"/web/resources/fwkResponsive/fpca_horaries/img/ico_r11.png\"/>\n",
      "<span>17/11/2021 08:21h</span>\n",
      "<div>\n",
      "<p>Tren Barcelona Sants 7:16 - Portbou 10:16, circula con 30 minutos de demora</p>\n",
      "</div>\n",
      "</div>, <div class=\"destacat_icones_cont\">\n",
      "<img alt=\"R11\" src=\"/web/resources/fwkResponsive/fpca_horaries/img/ico_r11.png\"/>\n",
      "<span>17/11/2021 07:59h</span>\n",
      "<div>\n",
      "<p>Tren Portbou 12:35 - B. Sants 15:10 no circula, viajeros a la siguiente circulación: Tren Portbou 13:24 - B. Sants 15:40 sin parada en Colera, Sant Miquel de Fluvià, Sant Jordi Desvalls, Celrà y Fornells de la Selva.</p>\n",
      "</div>\n",
      "</div>, <div class=\"destacat_icones_cont\">\n",
      "<img alt=\"R11\" src=\"/web/resources/fwkResponsive/fpca_horaries/img/ico_r11.png\"/>\n",
      "<span>17/11/2021 07:55h</span>\n",
      "<div>\n",
      "<p>Tren B. Sants 8:16 - Portbou 10:29 no circula, viajeros a la siguiente circulación B. Sants 9:16 - Cerbère 12:08</p>\n",
      "</div>\n",
      "</div>, <div class=\"destacat_icones_cont\">\n",
      "<img alt=\"R3\" src=\"/web/resources/fwkResponsive/fpca_horaries/img/ico_r3.png\"/>\n",
      "<span>24/08/2021 08:10h</span>\n",
      "<div>\n",
      "<p>Por obras de la infraestructura que realiza Adif, desde el 30 de agosto los trenes de la línea R3 con origen o destino La Garriga, iniciarán o finalizarán su recorrido en la estación de Les Franqueses del Vallès. Servicio alternativo con autobús. Más información en rodaliesdecatalunya.cat, renfe.com, app's, teléfono 900 41 00 41 o en las estaciones.</p>\n",
      "</div>\n",
      "</div>, <div class=\"destacat_icones_cont\">\n",
      "<img alt=\"R3\" src=\"/web/resources/fwkResponsive/fpca_horaries/img/ico_r3.png\"/>\n",
      "<span>14/06/2021 17:42h</span>\n",
      "<div>\n",
      "<p>A la llegada a Francia, en los controles previstos gestionados por las autoridades francesas, será obligatorio presentar una prueba PCR, de antígenos o de vacunación.</p>\n",
      "</div>\n",
      "</div>, <div class=\"destacat_icones_cont\">\n",
      "<img alt=\"R11\" src=\"/web/resources/fwkResponsive/fpca_horaries/img/ico_r11.png\"/>\n",
      "<span>14/06/2021 17:41h</span>\n",
      "<div>\n",
      "<p>A la llegada a Francia, en los controles previstos gestionados por las autoridades francesas, será obligatorio presentar una prueba PCR, de antígenos o de vacunación.</p>\n",
      "</div>\n",
      "</div>, <div class=\"destacat_icones_cont\">\n",
      "<img alt=\"RT1\" src=\"/web/resources/fwkResponsive/fpca_horaries/img/ico_rt1.png\"/>\n",
      "<span>25/03/2020 20:14h</span>\n",
      "<div>\n",
      "<p>Durante el período de reducción esta linea no prestará servicio. Disponen de los trenes de las líneas R14-R15-R16 para desplazarse entre Tarragona, Vila-seca y Reus.</p>\n",
      "</div>\n",
      "</div>]\n"
     ]
    }
   ],
   "source": [
    "import sys\n",
    "#!{sys.executable} -m pip install pandas\n",
    "import urllib\n",
    "from bs4 import BeautifulSoup\n",
    "url = 'http://rodalies.gencat.cat/es/alteracions_del_servei/'\n",
    "html = urllib.request.urlopen(url)\n",
    "soup2 = BeautifulSoup (html)\n",
    "tag = soup2.find_all(class_=\"destacat_icones_cont\")\n",
    "\n",
    "print(tag)"
   ]
  }
 ],
 "metadata": {
  "kernelspec": {
   "display_name": "Python 3",
   "language": "python",
   "name": "python3"
  },
  "language_info": {
   "codemirror_mode": {
    "name": "ipython",
    "version": 3
   },
   "file_extension": ".py",
   "mimetype": "text/x-python",
   "name": "python",
   "nbconvert_exporter": "python",
   "pygments_lexer": "ipython3",
   "version": "3.8.8"
  }
 },
 "nbformat": 4,
 "nbformat_minor": 5
}
