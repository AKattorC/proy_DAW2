{
 "cells": [
  {
   "cell_type": "code",
   "execution_count": 11,
   "id": "7f832e07",
   "metadata": {
    "scrolled": false
   },
   "outputs": [
    {
     "ename": "TypeError",
     "evalue": "list indices must be integers or slices, not Tag",
     "output_type": "error",
     "traceback": [
      "\u001b[1;31m---------------------------------------------------------------------------\u001b[0m",
      "\u001b[1;31mTypeError\u001b[0m                                 Traceback (most recent call last)",
      "\u001b[1;32m<ipython-input-11-6122a497d681>\u001b[0m in \u001b[0;36m<module>\u001b[1;34m\u001b[0m\n\u001b[0;32m     26\u001b[0m     \u001b[0mtags\u001b[0m\u001b[1;33m.\u001b[0m\u001b[0mappend\u001b[0m\u001b[1;33m(\u001b[0m\u001b[0mi\u001b[0m\u001b[1;33m)\u001b[0m\u001b[1;33m\u001b[0m\u001b[1;33m\u001b[0m\u001b[0m\n\u001b[0;32m     27\u001b[0m    \u001b[1;31m# print(tags[i])\u001b[0m\u001b[1;33m\u001b[0m\u001b[1;33m\u001b[0m\u001b[1;33m\u001b[0m\u001b[0m\n\u001b[1;32m---> 28\u001b[1;33m     \u001b[0mtagsi\u001b[0m\u001b[1;33m[\u001b[0m\u001b[0mi\u001b[0m\u001b[1;33m]\u001b[0m\u001b[1;33m=\u001b[0m\u001b[0mtags\u001b[0m\u001b[1;33m[\u001b[0m\u001b[0mi\u001b[0m\u001b[1;33m]\u001b[0m\u001b[1;33m.\u001b[0m\u001b[0mfind\u001b[0m\u001b[1;33m(\u001b[0m\u001b[1;34m\"img\"\u001b[0m\u001b[1;33m)\u001b[0m\u001b[1;33m\u001b[0m\u001b[1;33m\u001b[0m\u001b[0m\n\u001b[0m\u001b[0;32m     29\u001b[0m     \u001b[0mprint\u001b[0m\u001b[1;33m(\u001b[0m\u001b[0mtagsi\u001b[0m\u001b[1;33m[\u001b[0m\u001b[0mi\u001b[0m\u001b[1;33m]\u001b[0m\u001b[1;33m)\u001b[0m\u001b[1;33m\u001b[0m\u001b[1;33m\u001b[0m\u001b[0m\n",
      "\u001b[1;31mTypeError\u001b[0m: list indices must be integers or slices, not Tag"
     ]
    }
   ],
   "source": [
    "import sys\n",
    "#from mysql.connector import connect, Error\n",
    "#try:\n",
    " #   with connect (host=\"localhost\",user=input(\"root\"),\n",
    "  #               password=getpass(),\n",
    "   #              )as connection:\n",
    "    #    print(connection)\n",
    "     #   except Error as e:\n",
    "      #      print(e)\n",
    "#!{sys.executable} -m pip install pandas\n",
    "import urllib\n",
    "from bs4 import BeautifulSoup\n",
    "url = 'http://rodalies.gencat.cat/es/alteracions_del_servei/'\n",
    "html = urllib.request.urlopen(url)\n",
    "soup2 = BeautifulSoup (html)\n",
    "tags = [];\n",
    "tagsi = [];\n",
    "\n",
    "tag=soup2.find_all(class_=\"destacat_icones list-group-item\")\n",
    "\n",
    "\n",
    "#tag = tag.replace(',',' ').replace\n",
    "#lis = tag.split()\n",
    "\n",
    "for i in tag:\n",
    "    tags.append(i)\n",
    "   # print(tags[i])\n",
    "    tagsi[i]=tags[i].filter(lambda:\"img\")\n",
    "    print(tagsi[i])"
   ]
  }
 ],
 "metadata": {
  "kernelspec": {
   "display_name": "Python 3",
   "language": "python",
   "name": "python3"
  },
  "language_info": {
   "codemirror_mode": {
    "name": "ipython",
    "version": 3
   },
   "file_extension": ".py",
   "mimetype": "text/x-python",
   "name": "python",
   "nbconvert_exporter": "python",
   "pygments_lexer": "ipython3",
   "version": "3.8.8"
  }
 },
 "nbformat": 4,
 "nbformat_minor": 5
}
